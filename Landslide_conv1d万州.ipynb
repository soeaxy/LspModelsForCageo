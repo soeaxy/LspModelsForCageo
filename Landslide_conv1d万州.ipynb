{
 "cells": [
  {
   "cell_type": "markdown",
   "metadata": {},
   "source": [
    "# 使用1维卷积做滑坡敏感性制图（万州）"
   ]
  },
  {
   "cell_type": "code",
   "execution_count": 32,
   "metadata": {},
   "outputs": [],
   "source": [
    "import numpy as np\n",
    "import pandas as pd\n",
    "from sklearn.metrics import roc_curve, auc\n",
    "from sklearn.metrics import recall_score,f1_score,precision_score\n",
    "from sklearn.preprocessing import LabelEncoder\n",
    "from sklearn.preprocessing import StandardScaler\n",
    "from sklearn.model_selection import StratifiedShuffleSplit\n",
    "import keras\n",
    "from keras.models import Sequential\n",
    "from keras.layers.core import Dense,Dropout,Activation\n",
    "from keras.optimizers import SGD,Adam\n",
    "from keras.utils import np_utils\n",
    "from keras.utils import plot_model,print_summary\n",
    "from keras.layers import Conv1D,MaxPooling2D,Flatten,Softmax,Activation,Dense\n",
    "import matplotlib.pyplot as plt"
   ]
  },
  {
   "cell_type": "code",
   "execution_count": 2,
   "metadata": {},
   "outputs": [],
   "source": [
    "data=np.genfromtxt('wanzhouLandslides.csv', delimiter=',',skip_header=1)"
   ]
  },
  {
   "cell_type": "code",
   "execution_count": 3,
   "metadata": {},
   "outputs": [
    {
     "name": "stdout",
     "output_type": "stream",
     "text": [
      "(582485, 31)\n"
     ]
    }
   ],
   "source": [
    "print(data.shape)"
   ]
  },
  {
   "cell_type": "code",
   "execution_count": 4,
   "metadata": {},
   "outputs": [
    {
     "name": "stdout",
     "output_type": "stream",
     "text": [
      "[2.95000e+02 7.75467e+00 2.84931e+02 3.43289e+01 8.00000e+00 7.00315e-01\n",
      " 2.73861e+00 5.08108e+00 5.26814e-01 3.34805e+01 6.79371e-01 7.30473e-02\n",
      " 3.27524e-03 1.96984e-02 1.00000e+00 1.00000e+00 7.64735e+02 2.85000e+01\n",
      " 5.91647e+01 4.57640e+00 6.55414e+00 8.79241e-02 2.54951e+00 1.58012e+02\n",
      " 7.86250e-01 3.26397e-01 1.13447e+03 1.85445e+00 3.00000e+00]\n",
      "[0. 0. 0. 0. 0. 0. 0. 0. 0. 0.]\n"
     ]
    }
   ],
   "source": [
    "# 29列特征+1列标签+1个GeoID\n",
    "X = data[:,0:29]\n",
    "Y = data[:,29]\n",
    "# print(X[0])\n",
    "# print(Y[0:10])"
   ]
  },
  {
   "cell_type": "code",
   "execution_count": 7,
   "metadata": {},
   "outputs": [
    {
     "name": "stdout",
     "output_type": "stream",
     "text": [
      "x_train: [[ 526.        33.4561   324.728   ... 1177.58       1.39264    3.     ]\n",
      " [ 505.        13.2892   238.671   ... 1152.42       2.06307    3.     ]\n",
      " [ 376.        16.2667   222.563   ... 1155.5        2.01862    5.     ]\n",
      " ...\n",
      " [ 412.        24.0075    32.125   ... 1189.18       1.7329     5.     ]\n",
      " [ 265.         8.26168   64.9831  ... 1176.62       1.43333    5.     ]\n",
      " [ 382.        18.5653   319.236   ... 1154.37       2.02463    5.     ]]\n",
      "y_train: [0. 0. 0. ... 0. 0. 0.]\n",
      "x_train: [[ 344.         4.04531  277.125   ... 1191.29       1.7748     2.     ]\n",
      " [ 420.        19.6256   238.069   ... 1190.67       1.77468    3.     ]\n",
      " [ 486.         5.31552  315.      ... 1184.8        1.58503    3.     ]\n",
      " ...\n",
      " [ 269.         8.23935    1.7357  ... 1184.06       1.57878    5.     ]\n",
      " [ 206.        16.4603   174.036   ... 1160.12       2.03295    5.     ]\n",
      " [ 609.        23.205    318.318   ... 1177.18       1.38886    3.     ]]\n",
      "y_train: [0. 0. 0. ... 0. 0. 0.]\n"
     ]
    }
   ],
   "source": [
    "ss=StratifiedShuffleSplit(n_splits=2,test_size=0.3,random_state=23)#分成2组，测试比例为0.3\n",
    "\n",
    "for train_index, test_index in ss.split(X, Y):\n",
    "#     print(\"TRAIN_INDEX:\", train_index, \"TEST_INDEX:\", test_index)#获得索引值\n",
    "    x_train, x_test = X[train_index], X[test_index]#输入特征分割成2部分，训练部分和测试部分\n",
    "    y_train, y_test = Y[train_index], Y[test_index]#类别集分割成2部分，训练部分和测试部分\n",
    "#     print(\"x_train:\",x_train)\n",
    "#     print(\"y_train:\",y_train)\n"
   ]
  },
  {
   "cell_type": "code",
   "execution_count": 8,
   "metadata": {},
   "outputs": [
    {
     "name": "stdout",
     "output_type": "stream",
     "text": [
      "(407739,)\n",
      "(174746,)\n",
      "(407739, 29)\n",
      "(174746, 29)\n"
     ]
    }
   ],
   "source": [
    "print(y_train.shape)\n",
    "print(y_test.shape)\n",
    "print(x_train.shape)\n",
    "print(x_test.shape)"
   ]
  },
  {
   "cell_type": "code",
   "execution_count": 10,
   "metadata": {},
   "outputs": [],
   "source": [
    "# standardize train features\n",
    "scaler = StandardScaler().fit(x_train)\n",
    "scaled_train = scaler.transform(x_train)\n",
    "scaler_test = StandardScaler().fit(x_test)\n",
    "scaled_test = scaler_test.transform(x_test)\n",
    "\n",
    "# 特征数量\n",
    "nb_features = 29\n",
    "# 2个类别: 滑坡与非滑坡\n",
    "nb_class = 2\n",
    "\n",
    "# reshape train data\n",
    "X_train_r = np.zeros((len(x_train), nb_features, 1))\n",
    "X_train_r[:, :, 0] = scaled_train[:, :nb_features]\n",
    "\n",
    "# reshape test data\n",
    "X_test_r = np.zeros((len(x_test), nb_features, 1))\n",
    "X_test_r[:, :, 0] = scaled_test[:, :nb_features]\n",
    "\n",
    "y_train_labels = np_utils.to_categorical(y_train, nb_class)\n",
    "y_test_labels=np_utils.to_categorical(y_test,nb_class)\n"
   ]
  },
  {
   "cell_type": "code",
   "execution_count": 11,
   "metadata": {},
   "outputs": [],
   "source": [
    "def plotROC(y_test_pred, y_test_label):\n",
    "    Y_pred_0 = [y[1] for y in y_test_pred]  # 取出y中的一列\n",
    "    Y_test_0 = [y[1] for y in y_test_label]\n",
    "    fpr, tpr, thresholds_keras = roc_curve(Y_test_0, Y_pred_0)   \n",
    "    auc_val = auc(fpr, tpr)\n",
    "    print(\"AUC : \", auc_val)\n",
    "    plt.figure()\n",
    "    plt.plot([0, 1], [0, 1], 'k--')\n",
    "    plt.plot(fpr, tpr, label='ROC Curve (AUC = {:.3f})'.format(auc_val))\n",
    "    plt.xlabel('False positive rate')\n",
    "    plt.ylabel('True positive rate')\n",
    "    plt.title('ROC curve')\n",
    "    plt.legend(loc='best')\n",
    "    #plt.savefig('results/ROC-curve.png', dpi=120)\n",
    "    plt.show()"
   ]
  },
  {
   "cell_type": "markdown",
   "metadata": {},
   "source": [
    "## case 1: conv1d->dropout->3个全连接"
   ]
  },
  {
   "cell_type": "code",
   "execution_count": 17,
   "metadata": {
    "scrolled": true
   },
   "outputs": [
    {
     "name": "stdout",
     "output_type": "stream",
     "text": [
      "Epoch 1/10\n",
      "407739/407739 [==============================] - 1313s 3ms/step - loss: 0.1387 - accuracy: 0.9507\n",
      "Epoch 2/10\n",
      "407739/407739 [==============================] - 1410s 3ms/step - loss: 0.1170 - accuracy: 0.9557\n",
      "Epoch 3/10\n",
      "407739/407739 [==============================] - 1392s 3ms/step - loss: 0.1025 - accuracy: 0.9604\n",
      "Epoch 4/10\n",
      "407739/407739 [==============================] - 1887s 5ms/step - loss: 0.0914 - accuracy: 0.9641\n",
      "Epoch 5/10\n",
      "407739/407739 [==============================] - 1347s 3ms/step - loss: 0.0834 - accuracy: 0.9670\n",
      "Epoch 6/10\n",
      "407739/407739 [==============================] - 1326s 3ms/step - loss: 0.0772 - accuracy: 0.9697\n",
      "Epoch 7/10\n",
      "407739/407739 [==============================] - 1690s 4ms/step - loss: 0.0715 - accuracy: 0.9719\n",
      "Epoch 8/10\n",
      "407739/407739 [==============================] - 1881s 5ms/step - loss: 0.0671 - accuracy: 0.9737\n",
      "Epoch 9/10\n",
      "407739/407739 [==============================] - 1834s 4ms/step - loss: 0.0637 - accuracy: 0.9752\n",
      "Epoch 10/10\n",
      "407739/407739 [==============================] - 1577s 4ms/step - loss: 0.0602 - accuracy: 0.9762\n"
     ]
    }
   ],
   "source": [
    "def case1(nb_features,X_train_r,y_train_labels, nb_epoch, nb_class=2 ):\n",
    "    model = Sequential()\n",
    "    model.add(Conv1D(filters=512, kernel_size=1, input_shape=(nb_features, 1)))\n",
    "    model.add(Activation('relu'))\n",
    "    model.add(Flatten())\n",
    "    model.add(Dropout(0.4))\n",
    "    model.add(Dense(1024, activation='relu'))\n",
    "    model.add(Dense(1024, activation='relu'))\n",
    "    model.add(Dense(nb_class))\n",
    "    model.add(Activation('softmax'))\n",
    "\n",
    "#     sgd = SGD(lr=0.01, nesterov=True, decay=1e-6, momentum=0.9)\n",
    "    model.compile(loss='categorical_crossentropy',optimizer='adam', metrics=['accuracy'])\n",
    "\n",
    "    nb_epoch = 10\n",
    "    model.fit(X_train_r, y_train_labels, epochs=nb_epoch, batch_size=100)\n",
    "    return model\n",
    "\n",
    "m1 = case1(nb_features,X_train_r,y_train_labels,nb_epoch=20, nb_class=2 )"
   ]
  },
  {
   "cell_type": "code",
   "execution_count": 18,
   "metadata": {
    "scrolled": false
   },
   "outputs": [
    {
     "name": "stdout",
     "output_type": "stream",
     "text": [
      "407739/407739 [==============================] - 157s 384us/step\n",
      "\n",
      "TRAIN ACC : 0.9690978527069092\n",
      "174746/174746 [==============================] - 45s 258us/step\n",
      "\n",
      "TEST ACC : 0.9592437148094177\n",
      "\n",
      "-------------------------------\n",
      "\n",
      "AUC :  0.9837684140835383\n"
     ]
    },
    {
     "data": {
      "image/png": "[encoded data removed]",
      "text/plain": [
       "<Figure size 432x288 with 1 Axes>"
      ]
     },
     "metadata": {
      "needs_background": "light"
     },
     "output_type": "display_data"
    }
   ],
   "source": [
    "m1_result= m1.evaluate(X_train_r,y_train_labels,batch_size=100)\n",
    "print('\\nTRAIN ACC :',result[1])\n",
    "m1_result_test= m1.evaluate(X_test_r,y_test_labels,batch_size=1000)\n",
    "print('\\nTEST ACC :',result_test[1])\n",
    "print('\\n-------------------------------\\n')\n",
    "m1_y_test_pred = m1.predict(X_test_r, batch_size=1000)\n",
    "plotROC(m1_y_test_pred, y_test_labels)"
   ]
  },
  {
   "cell_type": "code",
   "execution_count": 20,
   "metadata": {},
   "outputs": [],
   "source": [
    "#保存模型\n",
    "m1.save('wanzhouM1.h5')"
   ]
  },
  {
   "cell_type": "markdown",
   "metadata": {},
   "source": [
    "## case 2: 8个conv1d(kernel size =3 ) ->dropout->2个全连接"
   ]
  },
  {
   "cell_type": "code",
   "execution_count": 12,
   "metadata": {
    "scrolled": false
   },
   "outputs": [
    {
     "name": "stdout",
     "output_type": "stream",
     "text": [
      "Epoch 1/20\n",
      "407739/407739 [==============================] - 97s 238us/step - loss: 0.1706 - accuracy: 0.9486\n",
      "Epoch 2/20\n",
      "407739/407739 [==============================] - 91s 223us/step - loss: 0.1447 - accuracy: 0.9497\n",
      "Epoch 3/20\n",
      "407739/407739 [==============================] - 96s 235us/step - loss: 0.1406 - accuracy: 0.9496\n",
      "Epoch 4/20\n",
      "407739/407739 [==============================] - 92s 225us/step - loss: 0.1372 - accuracy: 0.9500\n",
      "Epoch 5/20\n",
      "407739/407739 [==============================] - 91s 222us/step - loss: 0.1338 - accuracy: 0.9504\n",
      "Epoch 6/20\n",
      "407739/407739 [==============================] - 93s 228us/step - loss: 0.1306 - accuracy: 0.9512\n",
      "Epoch 7/20\n",
      "407739/407739 [==============================] - 95s 234us/step - loss: 0.1273 - accuracy: 0.9520\n",
      "Epoch 8/20\n",
      "407739/407739 [==============================] - 93s 228us/step - loss: 0.1238 - accuracy: 0.9528\n",
      "Epoch 9/20\n",
      "407739/407739 [==============================] - 93s 227us/step - loss: 0.1199 - accuracy: 0.9542\n",
      "Epoch 10/20\n",
      "407739/407739 [==============================] - 93s 227us/step - loss: 0.1162 - accuracy: 0.9553\n",
      "Epoch 11/20\n",
      "407739/407739 [==============================] - 92s 227us/step - loss: 0.1125 - accuracy: 0.9563\n",
      "Epoch 12/20\n",
      "407739/407739 [==============================] - 91s 224us/step - loss: 0.1092 - accuracy: 0.9577\n",
      "Epoch 13/20\n",
      "407739/407739 [==============================] - 91s 224us/step - loss: 0.1059 - accuracy: 0.9588\n",
      "Epoch 14/20\n",
      "407739/407739 [==============================] - 91s 222us/step - loss: 0.1027 - accuracy: 0.9598\n",
      "Epoch 15/20\n",
      "407739/407739 [==============================] - 90s 220us/step - loss: 0.0990 - accuracy: 0.9614\n",
      "Epoch 16/20\n",
      "407739/407739 [==============================] - 99s 242us/step - loss: 0.0964 - accuracy: 0.9623\n",
      "Epoch 17/20\n",
      "407739/407739 [==============================] - 147s 360us/step - loss: 0.0935 - accuracy: 0.9632\n",
      "Epoch 18/20\n",
      "407739/407739 [==============================] - 183s 448us/step - loss: 0.0907 - accuracy: 0.9642\n",
      "Epoch 19/20\n",
      "407739/407739 [==============================] - 183s 450us/step - loss: 0.0878 - accuracy: 0.9651\n",
      "Epoch 20/20\n",
      "407739/407739 [==============================] - 110s 271us/step - loss: 0.0856 - accuracy: 0.9662\n"
     ]
    }
   ],
   "source": [
    "def case2(nb_features,X_train_r,y_train_labels, nb_epoch, nb_class=2 ):\n",
    "    model = Sequential()\n",
    "    model.add(Conv1D(filters=64, kernel_size=3, input_shape=(nb_features, 1)))\n",
    "    model.add(Activation('relu'))\n",
    "    for i in range(0,7):\n",
    "        model.add(Conv1D(filters=64, kernel_size=3))\n",
    "        model.add(Activation('relu'))\n",
    "    model.add(Conv1D(filters=32, kernel_size=1))\n",
    "    model.add(Activation('relu'))\n",
    "    model.add(Flatten())\n",
    "    model.add(Dropout(0.2))\n",
    "    model.add(Dense(64, activation='relu'))\n",
    "    model.add(Dense(nb_class))\n",
    "    model.add(Activation('softmax'))\n",
    "\n",
    "#     sgd = SGD(lr=0.01, nesterov=True, decay=1e-6, momentum=0.9)\n",
    "    model.compile(loss='categorical_crossentropy',optimizer='adam',metrics=['accuracy'])\n",
    "\n",
    "    model.fit(X_train_r, y_train_labels, epochs=nb_epoch, batch_size=1000)\n",
    "    return model\n",
    "\n",
    "m2 = case2(nb_features,X_train_r,y_train_labels,nb_epoch=20, nb_class=2 )"
   ]
  },
  {
   "cell_type": "code",
   "execution_count": 13,
   "metadata": {
    "scrolled": false
   },
   "outputs": [
    {
     "name": "stdout",
     "output_type": "stream",
     "text": [
      "407739/407739 [==============================] - 44s 109us/step\n",
      "\n",
      "TRAIN ACC : 0.9690978527069092\n",
      "174746/174746 [==============================] - 10s 59us/step\n",
      "\n",
      "TEST ACC : 0.9592437148094177\n",
      "\n",
      "-------------------------------\n",
      "\n",
      "AUC :  0.9512735641131926\n"
     ]
    },
    {
     "data": {
      "image/png": "[encoded data removed]",
      "text/plain": [
       "<Figure size 432x288 with 1 Axes>"
      ]
     },
     "metadata": {
      "needs_background": "light"
     },
     "output_type": "display_data"
    }
   ],
   "source": [
    "result= m2.evaluate(X_train_r,y_train_labels,batch_size=100)\n",
    "print('\\nTRAIN ACC :',result[1])\n",
    "result_test= m2.evaluate(X_test_r,y_test_labels,batch_size=1000)\n",
    "print('\\nTEST ACC :',result_test[1])\n",
    "print('\\n-------------------------------\\n')\n",
    "y_test_pred = m2.predict(X_test_r, batch_size=100)\n",
    "plotROC(y_test_pred, y_test_labels)"
   ]
  },
  {
   "cell_type": "code",
   "execution_count": 21,
   "metadata": {},
   "outputs": [],
   "source": [
    "#保存模型\n",
    "m2.save('wanzhouM2.h5')"
   ]
  },
  {
   "cell_type": "code",
   "execution_count": 1,
   "metadata": {
    "scrolled": false
   },
   "outputs": [
    {
     "ename": "NameError",
     "evalue": "name 'print_summary' is not defined",
     "output_type": "error",
     "traceback": [
      "\u001b[1;31m---------------------------------------------------------------------------\u001b[0m",
      "\u001b[1;31mNameError\u001b[0m                                 Traceback (most recent call last)",
      "\u001b[1;32m<ipython-input-1-90646671f274>\u001b[0m in \u001b[0;36m<module>\u001b[1;34m()\u001b[0m\n\u001b[0;32m      1\u001b[0m \u001b[1;31m# 绘制模型\u001b[0m\u001b[1;33m\u001b[0m\u001b[1;33m\u001b[0m\u001b[1;33m\u001b[0m\u001b[0m\n\u001b[0;32m      2\u001b[0m \u001b[1;31m# 请参考：https://github.com/Qinbf/plot_model\u001b[0m\u001b[1;33m\u001b[0m\u001b[1;33m\u001b[0m\u001b[1;33m\u001b[0m\u001b[0m\n\u001b[1;32m----> 3\u001b[1;33m \u001b[0mprint_summary\u001b[0m\u001b[1;33m(\u001b[0m\u001b[0mm2\u001b[0m\u001b[1;33m)\u001b[0m\u001b[1;33m\u001b[0m\u001b[1;33m\u001b[0m\u001b[0m\n\u001b[0m\u001b[0;32m      4\u001b[0m \u001b[1;31m# plot_model(m2)\u001b[0m\u001b[1;33m\u001b[0m\u001b[1;33m\u001b[0m\u001b[1;33m\u001b[0m\u001b[0m\n",
      "\u001b[1;31mNameError\u001b[0m: name 'print_summary' is not defined"
     ]
    }
   ],
   "source": [
    "# 绘制模型\n",
    "# 请参考：https://github.com/Qinbf/plot_model\n",
    "print_summary(m2)\n",
    "# plot_model(m2)"
   ]
  },
  {
   "cell_type": "code",
   "execution_count": null,
   "metadata": {},
   "outputs": [],
   "source": []
  }
 ],
 "metadata": {
  "kernelspec": {
   "display_name": "Python [conda env:py37]",
   "language": "python",
   "name": "conda-env-py37-py"
  },
  "language_info": {
   "codemirror_mode": {
    "name": "ipython",
    "version": 3
   },
   "file_extension": ".py",
   "mimetype": "text/x-python",
   "name": "python",
   "nbconvert_exporter": "python",
   "pygments_lexer": "ipython3",
   "version": "3.7.9"
  }
 },
 "nbformat": 4,
 "nbformat_minor": 4
}
